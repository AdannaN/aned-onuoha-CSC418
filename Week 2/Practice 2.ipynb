{
 "cells": [
  {
   "cell_type": "code",
   "execution_count": 1,
   "id": "b0cfcd7c",
   "metadata": {},
   "outputs": [],
   "source": [
    "# A program to illustrate arithmetic operations of addition"
   ]
  },
  {
   "cell_type": "code",
   "execution_count": 2,
   "id": "1f333e19",
   "metadata": {},
   "outputs": [],
   "source": [
    "#organizing import\n",
    "import cv2"
   ]
  },
  {
   "cell_type": "code",
   "execution_count": 3,
   "id": "63503ba3",
   "metadata": {},
   "outputs": [],
   "source": [
    "#path to input images\n",
    "image1 = cv2.imread('images/sst.jpg')\n",
    "image2 = cv2.imread('images/sst-foyer.jpg')"
   ]
  },
  {
   "cell_type": "code",
   "execution_count": 4,
   "id": "7a83917e",
   "metadata": {},
   "outputs": [],
   "source": [
    "#resize images\n",
    "image1 = cv2.resize(image1, (500,400))\n",
    "image2 = cv2.resize(image2, (500,400))"
   ]
  },
  {
   "cell_type": "code",
   "execution_count": 5,
   "id": "77b3b27b",
   "metadata": {},
   "outputs": [],
   "source": [
    "# cv2.addWeighted with applied parameters\n",
    "addImage = cv2.addWeighted(image1, 0.5, image2, 0.6, 0)"
   ]
  },
  {
   "cell_type": "code",
   "execution_count": 6,
   "id": "c2170a7b",
   "metadata": {},
   "outputs": [],
   "source": [
    "# sub = cv2.subtract(image1, image2)"
   ]
  },
  {
   "cell_type": "code",
   "execution_count": 7,
   "id": "5ecf8916",
   "metadata": {},
   "outputs": [],
   "source": [
    "# window showing output image\n",
    "cv2.imshow(\"Weighted Image\", addImage)"
   ]
  },
  {
   "cell_type": "code",
   "execution_count": null,
   "id": "40207286",
   "metadata": {},
   "outputs": [],
   "source": [
    "# De-allocate any associated memory usage\n",
    "if cv2.waitKey(0) & 0xff == 27:\n",
    "    cv2.destroyAllWindows()"
   ]
  },
  {
   "cell_type": "code",
   "execution_count": null,
   "id": "afb53719",
   "metadata": {},
   "outputs": [],
   "source": []
  }
 ],
 "metadata": {
  "kernelspec": {
   "display_name": "Python 3 (ipykernel)",
   "language": "python",
   "name": "python3"
  },
  "language_info": {
   "codemirror_mode": {
    "name": "ipython",
    "version": 3
   },
   "file_extension": ".py",
   "mimetype": "text/x-python",
   "name": "python",
   "nbconvert_exporter": "python",
   "pygments_lexer": "ipython3",
   "version": "3.10.13"
  }
 },
 "nbformat": 4,
 "nbformat_minor": 5
}
