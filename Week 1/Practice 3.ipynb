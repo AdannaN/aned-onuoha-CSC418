{
 "cells": [
  {
   "cell_type": "code",
   "execution_count": 9,
   "id": "22028ef7",
   "metadata": {},
   "outputs": [],
   "source": [
    "#Python program to explain cv2.imwrite() method"
   ]
  },
  {
   "cell_type": "code",
   "execution_count": 10,
   "id": "f4438331",
   "metadata": {},
   "outputs": [],
   "source": [
    "#importing cv2\n",
    "import cv2"
   ]
  },
  {
   "cell_type": "code",
   "execution_count": 11,
   "id": "fd434ee1",
   "metadata": {},
   "outputs": [],
   "source": [
    "#importing os module\n",
    "import os"
   ]
  },
  {
   "cell_type": "code",
   "execution_count": 12,
   "id": "9b720b0d",
   "metadata": {},
   "outputs": [],
   "source": [
    "#Image path\n",
    "image_path =r'C:\\Users\\adann\\Desktop\\aned-onuoha-CSC418\\Week 1\\markz.jpeg'"
   ]
  },
  {
   "cell_type": "code",
   "execution_count": 13,
   "id": "113f0a85",
   "metadata": {},
   "outputs": [],
   "source": [
    "#Image directory\n",
    "directory = r'C:\\Users\\adann\\Desktop\\aned-onuoha-CSC418\\Week 1'"
   ]
  },
  {
   "cell_type": "code",
   "execution_count": 14,
   "id": "a4a62464",
   "metadata": {},
   "outputs": [],
   "source": [
    "#Using cv2.imread() method to read the image\n",
    "img = cv2.imread(image_path, 0)"
   ]
  },
  {
   "cell_type": "code",
   "execution_count": 15,
   "id": "e40fb2fc",
   "metadata": {},
   "outputs": [],
   "source": [
    "# Change the current directory to specified directory\n",
    "os.chdir(directory)"
   ]
  },
  {
   "cell_type": "code",
   "execution_count": 16,
   "id": "c989f44f",
   "metadata": {},
   "outputs": [
    {
     "name": "stdout",
     "output_type": "stream",
     "text": [
      "Before saving image: \n",
      "['.ipynb_checkpoints', 'download.jpeg', 'markz.jpeg', 'Practice 1.ipynb', 'Practice 2.ipynb', 'Practice 3.ipynb']\n"
     ]
    }
   ],
   "source": [
    "# List files and directories\n",
    "print(\"Before saving image: \")\n",
    "print(os.listdir(directory))"
   ]
  },
  {
   "cell_type": "code",
   "execution_count": 17,
   "id": "02f6f8be",
   "metadata": {},
   "outputs": [],
   "source": [
    "#File Name\n",
    "filename = 'grayImage.jpg'"
   ]
  },
  {
   "cell_type": "code",
   "execution_count": 18,
   "id": "a37f8a89",
   "metadata": {},
   "outputs": [
    {
     "data": {
      "text/plain": [
       "True"
      ]
     },
     "execution_count": 18,
     "metadata": {},
     "output_type": "execute_result"
    }
   ],
   "source": [
    "#using cv2.imwrite() method to save the image\n",
    "cv2.imwrite(filename, img)"
   ]
  },
  {
   "cell_type": "code",
   "execution_count": 19,
   "id": "77017efa",
   "metadata": {},
   "outputs": [
    {
     "name": "stdout",
     "output_type": "stream",
     "text": [
      "After saving image: \n",
      "['.ipynb_checkpoints', 'download.jpeg', 'grayImage.jpg', 'markz.jpeg', 'Practice 1.ipynb', 'Practice 2.ipynb', 'Practice 3.ipynb']\n"
     ]
    }
   ],
   "source": [
    "#List files and directories\n",
    "print(\"After saving image: \")\n",
    "print(os.listdir(directory))"
   ]
  },
  {
   "cell_type": "code",
   "execution_count": 20,
   "id": "3e7aae54",
   "metadata": {},
   "outputs": [
    {
     "name": "stdout",
     "output_type": "stream",
     "text": [
      "Successfully saved\n"
     ]
    }
   ],
   "source": [
    "print('Successfully saved')"
   ]
  },
  {
   "cell_type": "code",
   "execution_count": null,
   "id": "3913ccb8",
   "metadata": {},
   "outputs": [],
   "source": []
  }
 ],
 "metadata": {
  "kernelspec": {
   "display_name": "Python 3 (ipykernel)",
   "language": "python",
   "name": "python3"
  },
  "language_info": {
   "codemirror_mode": {
    "name": "ipython",
    "version": 3
   },
   "file_extension": ".py",
   "mimetype": "text/x-python",
   "name": "python",
   "nbconvert_exporter": "python",
   "pygments_lexer": "ipython3",
   "version": "3.10.13"
  }
 },
 "nbformat": 4,
 "nbformat_minor": 5
}
