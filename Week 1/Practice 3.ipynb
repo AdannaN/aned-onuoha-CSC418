{
 "cells": [
  {
   "cell_type": "code",
   "execution_count": 1,
   "id": "8be91e8c",
   "metadata": {},
   "outputs": [],
   "source": [
    "#Python program to explain cv2.imwrite() method"
   ]
  },
  {
   "cell_type": "code",
   "execution_count": 2,
   "id": "4d30ab08",
   "metadata": {},
   "outputs": [],
   "source": [
    "#importing cv2\n",
    "import cv2"
   ]
  },
  {
   "cell_type": "code",
   "execution_count": 3,
   "id": "666194a8",
   "metadata": {},
   "outputs": [],
   "source": [
    "#importing os module\n",
    "import os"
   ]
  },
  {
   "cell_type": "code",
   "execution_count": 5,
   "id": "c4583671",
   "metadata": {},
   "outputs": [],
   "source": [
    "#Image path\n",
    "image_path =r'C:\\Users\\adann\\Desktop\\aned-onuoha-CSC418\\Week 1\\markz.jpeg'"
   ]
  },
  {
   "cell_type": "code",
   "execution_count": 6,
   "id": "11e3784b",
   "metadata": {},
   "outputs": [],
   "source": [
    "#Image directory\n",
    "directory = r'C:\\Users\\adann\\Desktop\\aned-onuoha-CSC418\\Week 1'"
   ]
  },
  {
   "cell_type": "code",
   "execution_count": 7,
   "id": "eeaba954",
   "metadata": {},
   "outputs": [],
   "source": [
    "#Using cv2.imread() method to read the image\n",
    "img = cv2.imread(image_path, 0)"
   ]
  },
  {
   "cell_type": "code",
   "execution_count": 8,
   "id": "6665fedc",
   "metadata": {},
   "outputs": [],
   "source": [
    "# Change the current directory to specified directory\n",
    "os.chdir(directory)"
   ]
  },
  {
   "cell_type": "code",
   "execution_count": null,
   "id": "a2662b17",
   "metadata": {},
   "outputs": [],
   "source": [
    "# List files and directories\n",
    "print(\"Before saving image: \")\n",
    "print(os.listdir(directory))"
   ]
  },
  {
   "cell_type": "code",
   "execution_count": null,
   "id": "7b32d065",
   "metadata": {},
   "outputs": [],
   "source": [
    "#File Name\n",
    "filename = 'grayImage.jpg'"
   ]
  },
  {
   "cell_type": "code",
   "execution_count": null,
   "id": "479d6166",
   "metadata": {},
   "outputs": [],
   "source": [
    "#using cv2.imwrite() method to save the image\n",
    "cv2.imwrite(filename, img)"
   ]
  },
  {
   "cell_type": "code",
   "execution_count": null,
   "id": "c1467c5d",
   "metadata": {},
   "outputs": [],
   "source": [
    "#List files and directories\n",
    "print(\"After saving image: \")\n",
    "print(os.listdir(directory))"
   ]
  },
  {
   "cell_type": "code",
   "execution_count": null,
   "id": "ec0ba877",
   "metadata": {},
   "outputs": [],
   "source": [
    "print"
   ]
  }
 ],
 "metadata": {
  "kernelspec": {
   "display_name": "Python 3 (ipykernel)",
   "language": "python",
   "name": "python3"
  },
  "language_info": {
   "codemirror_mode": {
    "name": "ipython",
    "version": 3
   },
   "file_extension": ".py",
   "mimetype": "text/x-python",
   "name": "python",
   "nbconvert_exporter": "python",
   "pygments_lexer": "ipython3",
   "version": "3.10.13"
  }
 },
 "nbformat": 4,
 "nbformat_minor": 5
}
