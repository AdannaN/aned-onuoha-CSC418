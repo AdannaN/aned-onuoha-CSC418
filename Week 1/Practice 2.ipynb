{
 "cells": [
  {
   "cell_type": "code",
   "execution_count": 1,
   "id": "5238510c",
   "metadata": {},
   "outputs": [],
   "source": [
    "#Importing the open cv library\n",
    "import cv2"
   ]
  },
  {
   "cell_type": "code",
   "execution_count": 2,
   "id": "32c744a9",
   "metadata": {},
   "outputs": [],
   "source": [
    "#path\n",
    "path = 'markz.jpeg'"
   ]
  },
  {
   "cell_type": "code",
   "execution_count": 3,
   "id": "01e608c5",
   "metadata": {},
   "outputs": [],
   "source": [
    "#Reading an image in grayscale mode\n",
    "img = cv2.imread(path, 0)"
   ]
  },
  {
   "cell_type": "code",
   "execution_count": 4,
   "id": "d5627448",
   "metadata": {},
   "outputs": [],
   "source": [
    "#Window name in which the image is displayed\n",
    "window_name = 'Mark Zuckerberg'"
   ]
  },
  {
   "cell_type": "code",
   "execution_count": 5,
   "id": "5652662e",
   "metadata": {},
   "outputs": [],
   "source": [
    "#Display image\n",
    "cv2.imshow(window_name, img)"
   ]
  },
  {
   "cell_type": "code",
   "execution_count": null,
   "id": "eba41d38",
   "metadata": {},
   "outputs": [],
   "source": [
    "#Hold the window\n",
    "cv2.waitKey(0)"
   ]
  },
  {
   "cell_type": "code",
   "execution_count": null,
   "id": "5439c46b",
   "metadata": {},
   "outputs": [],
   "source": [
    "#Remove/delete all created GUI Window from screen/memory\n",
    "cv2.destroyAllWindows()"
   ]
  },
  {
   "cell_type": "code",
   "execution_count": null,
   "id": "ba5715e6",
   "metadata": {},
   "outputs": [],
   "source": []
  }
 ],
 "metadata": {
  "kernelspec": {
   "display_name": "Python 3 (ipykernel)",
   "language": "python",
   "name": "python3"
  },
  "language_info": {
   "codemirror_mode": {
    "name": "ipython",
    "version": 3
   },
   "file_extension": ".py",
   "mimetype": "text/x-python",
   "name": "python",
   "nbconvert_exporter": "python",
   "pygments_lexer": "ipython3",
   "version": "3.10.13"
  }
 },
 "nbformat": 4,
 "nbformat_minor": 5
}
