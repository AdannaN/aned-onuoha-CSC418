{
 "cells": [
  {
   "cell_type": "code",
   "execution_count": 1,
   "id": "138a1d9e",
   "metadata": {},
   "outputs": [],
   "source": [
    "#Importing the open cv library\n",
    "import cv2"
   ]
  },
  {
   "cell_type": "code",
   "execution_count": 2,
   "id": "e2eb9b85",
   "metadata": {},
   "outputs": [],
   "source": [
    "#path\n",
    "path = 'markz.jpeg'"
   ]
  },
  {
   "cell_type": "code",
   "execution_count": 3,
   "id": "c4ade00b",
   "metadata": {},
   "outputs": [],
   "source": [
    "#Reading an image in grayscale mode\n",
    "img = cv2.imread(path, 0)"
   ]
  },
  {
   "cell_type": "code",
   "execution_count": 4,
   "id": "1edeaac0",
   "metadata": {},
   "outputs": [],
   "source": [
    "#Window name in which the image is displayed\n",
    "window_name = 'Mark Zuckerberg'"
   ]
  },
  {
   "cell_type": "code",
   "execution_count": 5,
   "id": "d9f8d2f1",
   "metadata": {},
   "outputs": [],
   "source": [
    "#Display image\n",
    "cv2.imshow(window_name, img)"
   ]
  },
  {
   "cell_type": "code",
   "execution_count": null,
   "id": "de94da7e",
   "metadata": {},
   "outputs": [],
   "source": [
    "#Hold the window\n",
    "cv2.waitKey(0)"
   ]
  },
  {
   "cell_type": "code",
   "execution_count": null,
   "id": "7c3f34b2",
   "metadata": {},
   "outputs": [],
   "source": [
    "#Remove/delete all created GUI Window from screen/memory\n",
    "cv2.destroyAllWindows()"
   ]
  },
  {
   "cell_type": "code",
   "execution_count": null,
   "id": "bf3d54ef",
   "metadata": {},
   "outputs": [],
   "source": []
  }
 ],
 "metadata": {
  "kernelspec": {
   "display_name": "Python 3 (ipykernel)",
   "language": "python",
   "name": "python3"
  },
  "language_info": {
   "codemirror_mode": {
    "name": "ipython",
    "version": 3
   },
   "file_extension": ".py",
   "mimetype": "text/x-python",
   "name": "python",
   "nbconvert_exporter": "python",
   "pygments_lexer": "ipython3",
   "version": "3.10.13"
  }
 },
 "nbformat": 4,
 "nbformat_minor": 5
}
