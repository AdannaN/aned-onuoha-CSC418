{
 "cells": [
  {
   "cell_type": "code",
   "execution_count": 1,
   "id": "1c83955d",
   "metadata": {},
   "outputs": [],
   "source": [
    "#Importing the open cv library\n",
    "import cv2"
   ]
  },
  {
   "cell_type": "code",
   "execution_count": 2,
   "id": "64ef8b4e",
   "metadata": {},
   "outputs": [],
   "source": [
    "#path\n",
    "path = 'download.jpeg'"
   ]
  },
  {
   "cell_type": "code",
   "execution_count": 3,
   "id": "cc557a70",
   "metadata": {},
   "outputs": [],
   "source": [
    "#Reading the image using imread function\n",
    "img = cv2.imread(path)"
   ]
  },
  {
   "cell_type": "code",
   "execution_count": 4,
   "id": "a583c9fa",
   "metadata": {},
   "outputs": [],
   "source": [
    "#Window name in which the image is displayed\n",
    "window_name = 'Display Image'"
   ]
  },
  {
   "cell_type": "code",
   "execution_count": 5,
   "id": "4fe26337",
   "metadata": {},
   "outputs": [],
   "source": [
    "#Display image\n",
    "cv2.imshow(window_name, img)"
   ]
  },
  {
   "cell_type": "code",
   "execution_count": 7,
   "id": "bc2da423",
   "metadata": {},
   "outputs": [
    {
     "data": {
      "text/plain": [
       "-1"
      ]
     },
     "execution_count": 7,
     "metadata": {},
     "output_type": "execute_result"
    }
   ],
   "source": [
    "#Hold the window\n",
    "cv2.waitKey(0)"
   ]
  },
  {
   "cell_type": "code",
   "execution_count": 6,
   "id": "a2b4672c",
   "metadata": {},
   "outputs": [],
   "source": [
    "#Remove/delete all created GUI Window from screen/memory\n",
    "cv2.destroyAllWindows()"
   ]
  },
  {
   "cell_type": "code",
   "execution_count": null,
   "id": "420902fb",
   "metadata": {},
   "outputs": [],
   "source": []
  },
  {
   "cell_type": "code",
   "execution_count": null,
   "id": "57ec549c",
   "metadata": {},
   "outputs": [],
   "source": []
  }
 ],
 "metadata": {
  "kernelspec": {
   "display_name": "Python 3 (ipykernel)",
   "language": "python",
   "name": "python3"
  },
  "language_info": {
   "codemirror_mode": {
    "name": "ipython",
    "version": 3
   },
   "file_extension": ".py",
   "mimetype": "text/x-python",
   "name": "python",
   "nbconvert_exporter": "python",
   "pygments_lexer": "ipython3",
   "version": "3.10.13"
  }
 },
 "nbformat": 4,
 "nbformat_minor": 5
}
