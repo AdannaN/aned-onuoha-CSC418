{
 "cells": [
  {
   "cell_type": "code",
   "execution_count": 4,
   "id": "c8f1476b",
   "metadata": {},
   "outputs": [
    {
     "data": {
      "image/png": "[encoded data removed]",
      "text/plain": [
       "<Figure size 640x480 with 1 Axes>"
      ]
     },
     "metadata": {},
     "output_type": "display_data"
    }
   ],
   "source": [
    "import numpy as np \n",
    "import matplotlib.pyplot as plt \n",
    "import cv2 as cv\n",
    "img=cv.imread('img/download.jpg', 0)\n",
    "#Plot the original image \n",
    "\n",
    "plt.subplot (1, 2, 1) \n",
    "plt.title(\"Original\") \n",
    "plt.imshow(img)\n",
    "cropped_img = img [12:20, 10:40]\n",
    "\n",
    "#Plot the original image plt. subplot (1, 2, 2)\n",
    "plt.title(\"Cropped Image\") \n",
    "plt.imshow(cropped_img)\n",
    "cv.imwrite('cropped_out.jpg', cropped_img)\n",
    "\n",
    "cv. waitKey(0)\n",
    "cv.destroyAllWindows()"
   ]
  },
  {
   "cell_type": "code",
   "execution_count": null,
   "id": "8030ab62",
   "metadata": {},
   "outputs": [],
   "source": []
  }
 ],
 "metadata": {
  "kernelspec": {
   "display_name": "Python 3 (ipykernel)",
   "language": "python",
   "name": "python3"
  },
  "language_info": {
   "codemirror_mode": {
    "name": "ipython",
    "version": 3
   },
   "file_extension": ".py",
   "mimetype": "text/x-python",
   "name": "python",
   "nbconvert_exporter": "python",
   "pygments_lexer": "ipython3",
   "version": "3.10.13"
  }
 },
 "nbformat": 4,
 "nbformat_minor": 5
}
